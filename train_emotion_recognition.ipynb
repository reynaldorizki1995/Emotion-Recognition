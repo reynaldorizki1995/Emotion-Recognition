{
 "cells": [
  {
   "cell_type": "code",
   "execution_count": 1,
   "metadata": {},
   "outputs": [],
   "source": [
    "import numpy as np\n",
    "import matplotlib.pyplot as plt\n",
    "import cv2\n",
    "from tensorflow.keras.models import Sequential\n",
    "from tensorflow.keras.layers import Dense, Dropout, Flatten, Conv2D, MaxPooling2D\n",
    "from tensorflow.keras.optimizers import Adam\n",
    "from tensorflow.keras.preprocessing.image import ImageDataGenerator"
   ]
  },
  {
   "cell_type": "code",
   "execution_count": 2,
   "metadata": {},
   "outputs": [],
   "source": [
    "# load data\n",
    "train_data = '/Users/macbookpro/Documents/CVcourse/data/train'\n",
    "test_data = '/Users/macbookpro/Documents/CVcourse/data/test'"
   ]
  },
  {
   "cell_type": "code",
   "execution_count": 3,
   "metadata": {},
   "outputs": [
    {
     "name": "stdout",
     "output_type": "stream",
     "text": [
      "Found 28709 images belonging to 7 classes.\n",
      "Found 7178 images belonging to 7 classes.\n"
     ]
    }
   ],
   "source": [
    "# define image generator\n",
    "num_train = 28709\n",
    "num_test = 7178\n",
    "batch_size = 64\n",
    "num_epoch = 50\n",
    "\n",
    "datagen_train = ImageDataGenerator(rescale=1/255,\n",
    "                                  horizontal_flip=True)\n",
    "datagen_test = ImageDataGenerator(rescale=1/255,\n",
    "                                 horizontal_flip=True)\n",
    "\n",
    "train_gen = datagen_train.flow_from_directory(\n",
    "        train_data,\n",
    "        target_size=(48,48),\n",
    "        batch_size=batch_size,\n",
    "        color_mode=\"grayscale\",\n",
    "        class_mode='categorical')\n",
    "\n",
    "test_gen = datagen_test.flow_from_directory(\n",
    "        test_data,\n",
    "        target_size=(48,48),\n",
    "        batch_size=batch_size,\n",
    "        color_mode=\"grayscale\",\n",
    "        class_mode='categorical')"
   ]
  },
  {
   "cell_type": "code",
   "execution_count": 4,
   "metadata": {},
   "outputs": [],
   "source": [
    "# Create Model CNN (Convolutional Neural Network)\n",
    "model = Sequential()\n",
    "\n",
    "model.add(Conv2D(32, kernel_size=(3,3), activation='relu', input_shape=(48,48,1)))\n",
    "model.add(Conv2D(64, kernel_size=(3,3), activation='relu'))\n",
    "model.add(MaxPooling2D(pool_size=(2,2)))\n",
    "model.add(Dropout(0.25))\n",
    "\n",
    "model.add(Conv2D(128, kernel_size=(3, 3), activation='relu'))\n",
    "model.add(MaxPooling2D(pool_size=(2, 2)))\n",
    "model.add(Conv2D(128, kernel_size=(3, 3), activation='relu'))\n",
    "model.add(MaxPooling2D(pool_size=(2, 2)))\n",
    "model.add(Dropout(0.25))\n",
    "\n",
    "model.add(Flatten())\n",
    "model.add(Dense(1024, activation='relu'))\n",
    "model.add(Dropout(0.5))\n",
    "model.add(Dense(7, activation='softmax'))"
   ]
  },
  {
   "cell_type": "code",
   "execution_count": 5,
   "metadata": {},
   "outputs": [],
   "source": [
    "# Function for model evaluation\n",
    "def plot_model_history(model_history):\n",
    "    \"\"\"\n",
    "    Plot Accuracy and Loss curves given the model_history\n",
    "    \"\"\"\n",
    "    fig, axs = plt.subplots(1,2,figsize=(15,5))\n",
    "    # history for accuracy\n",
    "    axs[0].plot(range(1,len(model_history.history['accuracy'])+1),model_history.history['accuracy'])\n",
    "    axs[0].plot(range(1,len(model_history.history['val_accuracy'])+1),model_history.history['val_accuracy'])\n",
    "    axs[0].set_title('Model Accuracy')\n",
    "    axs[0].set_ylabel('Accuracy')\n",
    "    axs[0].set_xlabel('Epoch')\n",
    "    axs[0].set_xticks(np.arange(1,len(model_history.history['accuracy'])+1),len(model_history.history['accuracy'])/10)\n",
    "    axs[0].legend(['train', 'test'], loc='best')\n",
    "    \n",
    "    # history for loss\n",
    "    axs[1].plot(range(1,len(model_history.history['loss'])+1),model_history.history['loss'])\n",
    "    axs[1].plot(range(1,len(model_history.history['val_loss'])+1),model_history.history['val_loss'])\n",
    "    axs[1].set_title('Model Loss')\n",
    "    axs[1].set_ylabel('Loss')\n",
    "    axs[1].set_xlabel('Epoch')\n",
    "    axs[1].set_xticks(np.arange(1,len(model_history.history['loss'])+1),len(model_history.history['loss'])/10)\n",
    "    axs[1].legend(['train', 'test'], loc='best')\n",
    "    fig.savefig('plot.png')\n",
    "    plt.show()"
   ]
  },
  {
   "cell_type": "code",
   "execution_count": 6,
   "metadata": {},
   "outputs": [
    {
     "name": "stdout",
     "output_type": "stream",
     "text": [
      "WARNING:tensorflow:From <ipython-input-6-963ff0ba6b39>:8: Model.fit_generator (from tensorflow.python.keras.engine.training) is deprecated and will be removed in a future version.\n",
      "Instructions for updating:\n",
      "Please use Model.fit, which supports generators.\n",
      "Epoch 1/50\n",
      "448/448 [==============================] - 631s 1s/step - loss: 1.7200 - accuracy: 0.3048 - val_loss: 1.5308 - val_accuracy: 0.3975\n",
      "Epoch 2/50\n",
      "448/448 [==============================] - 571s 1s/step - loss: 1.4536 - accuracy: 0.4367 - val_loss: 1.3336 - val_accuracy: 0.4879\n",
      "Epoch 3/50\n",
      "448/448 [==============================] - 574s 1s/step - loss: 1.3058 - accuracy: 0.4988 - val_loss: 1.2135 - val_accuracy: 0.5386\n",
      "Epoch 4/50\n",
      "448/448 [==============================] - 596s 1s/step - loss: 1.2347 - accuracy: 0.5293 - val_loss: 1.1711 - val_accuracy: 0.5484\n",
      "Epoch 5/50\n",
      "448/448 [==============================] - 584s 1s/step - loss: 1.1861 - accuracy: 0.5501 - val_loss: 1.1433 - val_accuracy: 0.5635\n",
      "Epoch 6/50\n",
      "448/448 [==============================] - 591s 1s/step - loss: 1.1445 - accuracy: 0.5647 - val_loss: 1.1217 - val_accuracy: 0.5716\n",
      "Epoch 7/50\n",
      "448/448 [==============================] - 557s 1s/step - loss: 1.1123 - accuracy: 0.5775 - val_loss: 1.1057 - val_accuracy: 0.5760\n",
      "Epoch 8/50\n",
      "448/448 [==============================] - 521s 1s/step - loss: 1.0870 - accuracy: 0.5869 - val_loss: 1.0884 - val_accuracy: 0.5868\n",
      "Epoch 9/50\n",
      "448/448 [==============================] - 544s 1s/step - loss: 1.0665 - accuracy: 0.5958 - val_loss: 1.0808 - val_accuracy: 0.5876\n",
      "Epoch 10/50\n",
      "448/448 [==============================] - 564s 1s/step - loss: 1.0433 - accuracy: 0.6008 - val_loss: 1.0778 - val_accuracy: 0.5910\n",
      "Epoch 11/50\n",
      "448/448 [==============================] - 568s 1s/step - loss: 1.0259 - accuracy: 0.6119 - val_loss: 1.0641 - val_accuracy: 0.6044\n",
      "Epoch 12/50\n",
      "448/448 [==============================] - 569s 1s/step - loss: 1.0045 - accuracy: 0.6219 - val_loss: 1.0559 - val_accuracy: 0.6064\n",
      "Epoch 13/50\n",
      "448/448 [==============================] - 561s 1s/step - loss: 0.9930 - accuracy: 0.6232 - val_loss: 1.0520 - val_accuracy: 0.6023\n",
      "Epoch 14/50\n",
      "448/448 [==============================] - 558s 1s/step - loss: 0.9772 - accuracy: 0.6290 - val_loss: 1.0348 - val_accuracy: 0.6119\n",
      "Epoch 15/50\n",
      "448/448 [==============================] - 559s 1s/step - loss: 0.9499 - accuracy: 0.6391 - val_loss: 1.0441 - val_accuracy: 0.6098\n",
      "Epoch 16/50\n",
      "448/448 [==============================] - 556s 1s/step - loss: 0.9443 - accuracy: 0.6415 - val_loss: 1.0436 - val_accuracy: 0.6101\n",
      "Epoch 17/50\n",
      "448/448 [==============================] - 562s 1s/step - loss: 0.9277 - accuracy: 0.6509 - val_loss: 1.0451 - val_accuracy: 0.6081\n",
      "Epoch 18/50\n",
      "448/448 [==============================] - 562s 1s/step - loss: 0.9156 - accuracy: 0.6573 - val_loss: 1.0484 - val_accuracy: 0.6035\n",
      "Epoch 19/50\n",
      "448/448 [==============================] - 570s 1s/step - loss: 0.8990 - accuracy: 0.6638 - val_loss: 1.0270 - val_accuracy: 0.6157\n",
      "Epoch 20/50\n",
      "448/448 [==============================] - 562s 1s/step - loss: 0.8861 - accuracy: 0.6647 - val_loss: 1.0305 - val_accuracy: 0.6148\n",
      "Epoch 21/50\n",
      "448/448 [==============================] - 559s 1s/step - loss: 0.8782 - accuracy: 0.6695 - val_loss: 1.0350 - val_accuracy: 0.6173\n",
      "Epoch 22/50\n",
      "448/448 [==============================] - 563s 1s/step - loss: 0.8694 - accuracy: 0.6714 - val_loss: 1.0274 - val_accuracy: 0.6212\n",
      "Epoch 23/50\n",
      "448/448 [==============================] - 552s 1s/step - loss: 0.8525 - accuracy: 0.6815 - val_loss: 1.0179 - val_accuracy: 0.6240\n",
      "Epoch 24/50\n",
      "448/448 [==============================] - 565s 1s/step - loss: 0.8385 - accuracy: 0.6831 - val_loss: 1.0555 - val_accuracy: 0.6180\n",
      "Epoch 25/50\n",
      "448/448 [==============================] - 564s 1s/step - loss: 0.8345 - accuracy: 0.6887 - val_loss: 1.0305 - val_accuracy: 0.6223\n",
      "Epoch 26/50\n",
      "448/448 [==============================] - 557s 1s/step - loss: 0.8220 - accuracy: 0.6906 - val_loss: 1.0294 - val_accuracy: 0.6239\n",
      "Epoch 27/50\n",
      "448/448 [==============================] - 551s 1s/step - loss: 0.8096 - accuracy: 0.6971 - val_loss: 1.0230 - val_accuracy: 0.6281\n",
      "Epoch 28/50\n",
      "448/448 [==============================] - 551s 1s/step - loss: 0.7936 - accuracy: 0.7046 - val_loss: 1.0270 - val_accuracy: 0.6240\n",
      "Epoch 29/50\n",
      "448/448 [==============================] - 546s 1s/step - loss: 0.7903 - accuracy: 0.7038 - val_loss: 1.0174 - val_accuracy: 0.6343\n",
      "Epoch 30/50\n",
      "448/448 [==============================] - 558s 1s/step - loss: 0.7854 - accuracy: 0.7050 - val_loss: 1.0458 - val_accuracy: 0.6247\n",
      "Epoch 31/50\n",
      "448/448 [==============================] - 591s 1s/step - loss: 0.7747 - accuracy: 0.7113 - val_loss: 1.0377 - val_accuracy: 0.6277\n",
      "Epoch 32/50\n",
      "448/448 [==============================] - 708s 2s/step - loss: 0.7653 - accuracy: 0.7148 - val_loss: 1.0403 - val_accuracy: 0.6270\n",
      "Epoch 33/50\n",
      "448/448 [==============================] - 791s 2s/step - loss: 0.7563 - accuracy: 0.7177 - val_loss: 1.0382 - val_accuracy: 0.6295\n",
      "Epoch 34/50\n",
      "448/448 [==============================] - 741s 2s/step - loss: 0.7526 - accuracy: 0.7202 - val_loss: 1.0206 - val_accuracy: 0.6363\n",
      "Epoch 35/50\n",
      "448/448 [==============================] - 733s 2s/step - loss: 0.7401 - accuracy: 0.7235 - val_loss: 1.0385 - val_accuracy: 0.6272\n",
      "Epoch 36/50\n",
      "448/448 [==============================] - 555s 1s/step - loss: 0.7325 - accuracy: 0.7269 - val_loss: 1.0378 - val_accuracy: 0.6271\n",
      "Epoch 37/50\n",
      "448/448 [==============================] - 561s 1s/step - loss: 0.7241 - accuracy: 0.7312 - val_loss: 1.0474 - val_accuracy: 0.6290\n",
      "Epoch 38/50\n",
      "448/448 [==============================] - 559s 1s/step - loss: 0.7156 - accuracy: 0.7304 - val_loss: 1.0646 - val_accuracy: 0.6246\n",
      "Epoch 39/50\n",
      "448/448 [==============================] - 634s 1s/step - loss: 0.7173 - accuracy: 0.7300 - val_loss: 1.0346 - val_accuracy: 0.6289\n",
      "Epoch 40/50\n",
      "448/448 [==============================] - 521s 1s/step - loss: 0.7086 - accuracy: 0.7340 - val_loss: 1.0479 - val_accuracy: 0.6275\n",
      "Epoch 41/50\n",
      "448/448 [==============================] - 553s 1s/step - loss: 0.6993 - accuracy: 0.7392 - val_loss: 1.0516 - val_accuracy: 0.6357\n",
      "Epoch 42/50\n",
      "448/448 [==============================] - 628s 1s/step - loss: 0.6948 - accuracy: 0.7401 - val_loss: 1.0592 - val_accuracy: 0.6345\n",
      "Epoch 43/50\n",
      "448/448 [==============================] - 795s 2s/step - loss: 0.6858 - accuracy: 0.7470 - val_loss: 1.0506 - val_accuracy: 0.6263\n",
      "Epoch 44/50\n",
      "448/448 [==============================] - 784s 2s/step - loss: 0.6797 - accuracy: 0.7481 - val_loss: 1.0597 - val_accuracy: 0.6282\n",
      "Epoch 45/50\n",
      "448/448 [==============================] - 551s 1s/step - loss: 0.6734 - accuracy: 0.7513 - val_loss: 1.0406 - val_accuracy: 0.6385\n",
      "Epoch 46/50\n",
      "448/448 [==============================] - 545s 1s/step - loss: 0.6685 - accuracy: 0.7525 - val_loss: 1.0330 - val_accuracy: 0.6405\n",
      "Epoch 47/50\n",
      "448/448 [==============================] - 545s 1s/step - loss: 0.6682 - accuracy: 0.7524 - val_loss: 1.0536 - val_accuracy: 0.6367\n",
      "Epoch 48/50\n",
      "448/448 [==============================] - 551s 1s/step - loss: 0.6541 - accuracy: 0.7577 - val_loss: 1.0668 - val_accuracy: 0.6331\n",
      "Epoch 49/50\n",
      "448/448 [==============================] - 554s 1s/step - loss: 0.6549 - accuracy: 0.7562 - val_loss: 1.0678 - val_accuracy: 0.6275\n",
      "Epoch 50/50\n",
      "448/448 [==============================] - 545s 1s/step - loss: 0.6489 - accuracy: 0.7580 - val_loss: 1.0700 - val_accuracy: 0.6345\n"
     ]
    },
    {
     "data": {
      "image/png": "[encoded data removed]",
      "text/plain": [
       "<Figure size 1080x360 with 2 Axes>"
      ]
     },
     "metadata": {
      "needs_background": "light"
     },
     "output_type": "display_data"
    }
   ],
   "source": [
    "# Train Model\n",
    "model.compile(loss='categorical_crossentropy', optimizer=Adam(lr = 0.001), metrics=['accuracy'])\n",
    "model_info = model.fit_generator(\n",
    "train_gen,\n",
    "steps_per_epoch = num_train // batch_size,\n",
    "            epochs = num_epoch,\n",
    "            validation_data = test_gen,\n",
    "            validation_steps = num_test // batch_size\n",
    "    )\n",
    "plot_model_history(model_info)\n",
    "model.save_weights('model.h5')"
   ]
  },
  {
   "cell_type": "code",
   "execution_count": null,
   "metadata": {},
   "outputs": [],
   "source": []
  }
 ],
 "metadata": {
  "kernelspec": {
   "display_name": "Python 3",
   "language": "python",
   "name": "python3"
  },
  "language_info": {
   "codemirror_mode": {
    "name": "ipython",
    "version": 3
   },
   "file_extension": ".py",
   "mimetype": "text/x-python",
   "name": "python",
   "nbconvert_exporter": "python",
   "pygments_lexer": "ipython3",
   "version": "3.7.4"
  }
 },
 "nbformat": 4,
 "nbformat_minor": 2
}
